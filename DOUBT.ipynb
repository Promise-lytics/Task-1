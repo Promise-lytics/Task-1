{
 "cells": [
  {
   "cell_type": "code",
   "execution_count": 1,
   "metadata": {},
   "outputs": [],
   "source": [
    "import pandas as pd\n",
    "df= pd.read_csv(\"doubt01.csv\")"
   ]
  },
  {
   "cell_type": "code",
   "execution_count": 2,
   "metadata": {},
   "outputs": [],
   "source": [
    "# Problem\n",
    "# Address and apartment number are two fields\n",
    "# Some apartment numbers are filled\n",
    "# Few appartment numbers are part of the address with format: address,apartment number\n",
    "# Few have no apartment number at all, we want to leave apartment number of those rows blank\n",
    "# I seperated address with apartment number.\n",
    "# I am unable to combine already existing apartment numbers with this list I found\n",
    "# We also need to make sure that address fields are updated. (they are updated in method I used. I'll use 'ADD' field straight away)"
   ]
  },
  {
   "cell_type": "code",
   "execution_count": 3,
   "metadata": {},
   "outputs": [],
   "source": [
    "new_df = df[\"ADDRESS\"].str.split(\",\", n=1, expand = True).rename({0: 'ADD', 1: 'APP'}, axis=1).replace([None], \" \")"
   ]
  },
  {
   "cell_type": "code",
   "execution_count": 4,
   "metadata": {},
   "outputs": [],
   "source": [
    "# Just to check if I have taken care of all addresses\n",
    "i=0\n",
    "sub=\",\"\n",
    "f= new_df[\"ADD\"]\n",
    "for a in f:\n",
    "    if sub in a:\n",
    "        print(new_df[\"ADD\"][i])\n",
    "    i=i+1"
   ]
  },
  {
   "cell_type": "code",
   "execution_count": null,
   "metadata": {},
   "outputs": [],
   "source": []
  }
 ],
 "metadata": {
  "kernelspec": {
   "display_name": "Python 3",
   "language": "python",
   "name": "python3"
  },
  "language_info": {
   "codemirror_mode": {
    "name": "ipython",
    "version": 3
   },
   "file_extension": ".py",
   "mimetype": "text/x-python",
   "name": "python",
   "nbconvert_exporter": "python",
   "pygments_lexer": "ipython3",
   "version": "3.6.3"
  }
 },
 "nbformat": 4,
 "nbformat_minor": 4
}
